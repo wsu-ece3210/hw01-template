{
 "cells": [
  {
   "cell_type": "markdown",
   "metadata": {},
   "source": [
    "Before you turn this problem in, make sure everything runs as expected. First, **restart the kernel** (in the menubar, select Kernel$\\rightarrow$Restart) and then **run all cells** (in the menubar, select Cell$\\rightarrow$Run All).\n",
    "\n",
    "Make sure you fill in any place that says `YOUR CODE HERE` or \"YOUR ANSWER HERE\", as well as your name and collaborators below:"
   ]
  },
  {
   "cell_type": "code",
   "execution_count": null,
   "metadata": {},
   "outputs": [],
   "source": [
    "NAME = \"\"\n",
    "COLLABORATORS = \"\""
   ]
  },
  {
   "cell_type": "markdown",
   "metadata": {},
   "source": [
    "---"
   ]
  },
  {
   "cell_type": "markdown",
   "metadata": {
    "deletable": false,
    "editable": false,
    "nbgrader": {
     "cell_type": "markdown",
     "checksum": "d2847dba9137d421994debc770f92d8d",
     "grade": false,
     "grade_id": "cell-d975c962cfb83c6c",
     "locked": true,
     "schema_version": 3,
     "solution": false,
     "task": false
    }
   },
   "source": [
    "# Signal sketching"
   ]
  },
  {
   "cell_type": "code",
   "execution_count": null,
   "metadata": {
    "deletable": false,
    "editable": false,
    "nbgrader": {
     "cell_type": "code",
     "checksum": "6b27e92f7a2a22dac954865c844e190a",
     "grade": false,
     "grade_id": "cell-bffa7c11f2490fc4",
     "locked": true,
     "schema_version": 3,
     "solution": false,
     "task": false
    }
   },
   "outputs": [],
   "source": [
    "from matplotlib import pyplot as plt\n",
    "import numpy as np"
   ]
  },
  {
   "cell_type": "markdown",
   "metadata": {
    "deletable": false,
    "editable": false,
    "nbgrader": {
     "cell_type": "markdown",
     "checksum": "857e31e8f0193bf659708261442362cd",
     "grade": false,
     "grade_id": "cell-66f7b6a195cb2c6c",
     "locked": true,
     "schema_version": 3,
     "solution": false,
     "task": false
    }
   },
   "source": [
    "This class will ask questions where the solution is not a simple numerical answer.  Often, it will be in a functional form.  \n",
    "\n",
    "Consider $f(t) = u(t-5) -  u(t-7)$?\n",
    "\n",
    "If you were to represent this in Python, how would you do this?  There are myriad approaches, but any of them will do the homework.  The simplest might be:"
   ]
  },
  {
   "cell_type": "code",
   "execution_count": null,
   "metadata": {
    "deletable": false,
    "editable": false,
    "nbgrader": {
     "cell_type": "code",
     "checksum": "a83d6b94fea65a3746c6c16008d739e4",
     "grade": false,
     "grade_id": "cell-00e47f80ee4bd49c",
     "locked": true,
     "schema_version": 3,
     "solution": false,
     "task": false
    }
   },
   "outputs": [],
   "source": [
    "def f_simple(t):\n",
    "    if t < 5 or t > 7:\n",
    "        return 0.\n",
    "    else:\n",
    "        return 1."
   ]
  },
  {
   "cell_type": "markdown",
   "metadata": {
    "deletable": false,
    "editable": false,
    "nbgrader": {
     "cell_type": "markdown",
     "checksum": "35e63ac1424b06323b87eb6787c6933d",
     "grade": false,
     "grade_id": "cell-7f9d37fc31130984",
     "locked": true,
     "schema_version": 3,
     "solution": false,
     "task": false
    }
   },
   "source": [
    "Alternatively, you could do the following, which is more elegant, but you aren't expected to produce the most elegant Python code for these homework exercises."
   ]
  },
  {
   "cell_type": "code",
   "execution_count": null,
   "metadata": {
    "deletable": false,
    "editable": false,
    "nbgrader": {
     "cell_type": "code",
     "checksum": "c4f08fa2ec4083d88f4f414ca0c27c3b",
     "grade": false,
     "grade_id": "cell-4cf665b8ff0b4638",
     "locked": true,
     "schema_version": 3,
     "solution": false,
     "task": false
    }
   },
   "outputs": [],
   "source": [
    "def f_complicated1(t):\n",
    "    f = np.zeros_like(t)\n",
    "    f[5 < t <= 7] = 1.\n",
    "    return f"
   ]
  },
  {
   "cell_type": "code",
   "execution_count": null,
   "metadata": {
    "deletable": false,
    "editable": false,
    "nbgrader": {
     "cell_type": "code",
     "checksum": "8163dcb77e61d3ae6cc848eebad8aee7",
     "grade": false,
     "grade_id": "cell-a401faf403c8ca5b",
     "locked": true,
     "schema_version": 3,
     "solution": false,
     "task": false
    }
   },
   "outputs": [],
   "source": [
    "def f_complicated2(t):\n",
    "    f = np.zeros_like(t)\n",
    "    f[(5 < t) & (t <= 7)] = 1.\n",
    "    return f"
   ]
  },
  {
   "cell_type": "markdown",
   "metadata": {
    "deletable": false,
    "editable": false,
    "nbgrader": {
     "cell_type": "markdown",
     "checksum": "237a93293d2d93e5e1d5f8f82f84581b",
     "grade": false,
     "grade_id": "cell-7b88e9d82cbbf3a4",
     "locked": true,
     "schema_version": 3,
     "solution": false,
     "task": false
    }
   },
   "source": [
    "We see if we plot both you will get the same thing!"
   ]
  },
  {
   "cell_type": "code",
   "execution_count": null,
   "metadata": {
    "deletable": false,
    "editable": false,
    "nbgrader": {
     "cell_type": "code",
     "checksum": "76999b10cd872501a50989b3878196cc",
     "grade": false,
     "grade_id": "cell-b66616805b4b7cf7",
     "locked": true,
     "schema_version": 3,
     "solution": false,
     "task": false
    }
   },
   "outputs": [],
   "source": [
    "t = np.linspace(3,8,1000)\n",
    "\n",
    "plt.figure()\n",
    "plt.plot(t, [f_simple(x) for x in t], label='simple')\n",
    "plt.plot(t, f_complicated2(t), label='complicated')\n",
    "plt.legend()\n",
    "plt.xlabel('time')\n",
    "plt.ylabel('amplitude')\n",
    "plt.title('simple vs. complicated')\n",
    "plt.grid()\n",
    "plt.show()\n"
   ]
  },
  {
   "cell_type": "markdown",
   "metadata": {
    "deletable": false,
    "editable": false,
    "nbgrader": {
     "cell_type": "markdown",
     "checksum": "1ada3234ef5498e595ed8eb94ad60177",
     "grade": false,
     "grade_id": "cell-58f99b72774719e9",
     "locked": true,
     "schema_version": 3,
     "solution": false,
     "task": false
    }
   },
   "source": [
    "Your turn!  Write a function `f_1(t)` for the expression $f_1(t) = t^2[u(t-1) - u(t-2)]$."
   ]
  },
  {
   "cell_type": "code",
   "execution_count": null,
   "metadata": {
    "deletable": false,
    "nbgrader": {
     "cell_type": "code",
     "checksum": "7353d30e6c81e441351a9b98e6284f10",
     "grade": false,
     "grade_id": "cell-7491e846c95fe27e",
     "locked": false,
     "schema_version": 3,
     "solution": true,
     "task": false
    }
   },
   "outputs": [],
   "source": [
    "def f_1(t):\n",
    "    # YOUR CODE HERE\n",
    "    raise NotImplementedError()"
   ]
  },
  {
   "cell_type": "code",
   "execution_count": null,
   "metadata": {
    "deletable": false,
    "editable": false,
    "nbgrader": {
     "cell_type": "code",
     "checksum": "ecd26dfce9df6d70d8e14e6835056bea",
     "grade": true,
     "grade_id": "cell-490de5d588c74818",
     "locked": true,
     "points": 1,
     "schema_version": 3,
     "solution": false,
     "task": false
    }
   },
   "outputs": [],
   "source": [
    "assert isinstance(f_1(1.5), (int, float))\n"
   ]
  },
  {
   "cell_type": "markdown",
   "metadata": {
    "deletable": false,
    "editable": false,
    "nbgrader": {
     "cell_type": "markdown",
     "checksum": "316b7ce60265cc6036c8e08acb394cfe",
     "grade": false,
     "grade_id": "cell-d0f75b7416c230be",
     "locked": true,
     "schema_version": 3,
     "solution": false,
     "task": false
    }
   },
   "source": [
    "Let's try another.  Write a function `f_2(t)` for the expression $f_2(t) = (t-4) [u(t-2) - u(t-4)]$"
   ]
  },
  {
   "cell_type": "code",
   "execution_count": null,
   "metadata": {
    "deletable": false,
    "nbgrader": {
     "cell_type": "code",
     "checksum": "ef9c7bdd8fe4bdfabd66f106e7cba012",
     "grade": false,
     "grade_id": "cell-1e03dea9e8f17200",
     "locked": false,
     "schema_version": 3,
     "solution": true,
     "task": false
    }
   },
   "outputs": [],
   "source": [
    "def f_2(t):\n",
    "    # YOUR CODE HERE\n",
    "    raise NotImplementedError()"
   ]
  },
  {
   "cell_type": "code",
   "execution_count": null,
   "metadata": {
    "deletable": false,
    "editable": false,
    "nbgrader": {
     "cell_type": "code",
     "checksum": "1ba6657f304c9353f6ada1518b60c5cb",
     "grade": true,
     "grade_id": "cell-eadef12256f366ab",
     "locked": true,
     "points": 1,
     "schema_version": 3,
     "solution": false,
     "task": false
    }
   },
   "outputs": [],
   "source": [
    "assert isinstance(f_2(1.5), (int, float))\n"
   ]
  },
  {
   "cell_type": "markdown",
   "metadata": {
    "deletable": false,
    "editable": false,
    "nbgrader": {
     "cell_type": "markdown",
     "checksum": "4d4b5df9a96b5764fa4be0b1a35411f8",
     "grade": false,
     "grade_id": "cell-5ab2f5d47f949e9d",
     "locked": true,
     "schema_version": 3,
     "solution": false,
     "task": false
    }
   },
   "source": [
    "Let's plot these to make sure they make sense intuitively."
   ]
  },
  {
   "cell_type": "code",
   "execution_count": null,
   "metadata": {
    "deletable": false,
    "editable": false,
    "nbgrader": {
     "cell_type": "code",
     "checksum": "39274670e345f854e2c919a3e8f48442",
     "grade": false,
     "grade_id": "cell-dd08b8e164bdd76b",
     "locked": true,
     "schema_version": 3,
     "solution": false,
     "task": false
    }
   },
   "outputs": [],
   "source": [
    "t = np.linspace(0,5,200)\n",
    "f_1_array = [f_1(t_val) for t_val in t]\n",
    "f_2_array = [f_2(t_val) for t_val in t]\n",
    "\n",
    "plt.figure()\n",
    "plt.plot(t, f_1_array, label=\"$f_1(t)$\")\n",
    "plt.plot(t, f_2_array, label=\"$f_2(t)$\")\n",
    "plt.legend()\n",
    "plt.xlabel('time')\n",
    "plt.ylabel('amplitude')\n",
    "plt.grid()\n"
   ]
  }
 ],
 "metadata": {
  "kernelspec": {
   "display_name": "Python 3 (ipykernel)",
   "language": "python",
   "name": "python3"
  },
  "language_info": {
   "codemirror_mode": {
    "name": "ipython",
    "version": 3
   },
   "file_extension": ".py",
   "mimetype": "text/x-python",
   "name": "python",
   "nbconvert_exporter": "python",
   "pygments_lexer": "ipython3",
   "version": "3.11.7"
  }
 },
 "nbformat": 4,
 "nbformat_minor": 4
}
